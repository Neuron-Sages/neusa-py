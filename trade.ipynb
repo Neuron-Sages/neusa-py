{
 "cells": [
  {
   "cell_type": "code",
   "execution_count": null,
   "metadata": {},
   "outputs": [],
   "source": [
    "%pip install binance-connector"
   ]
  },
  {
   "cell_type": "code",
   "execution_count": null,
   "metadata": {},
   "outputs": [],
   "source": [
    "from binance.spot import Spot\n",
    "from binance.websocket.spot.websocket_api import SpotWebsocketAPIClient\n",
    "from binance.lib.utils import config_logging\n",
    "from binance.error import ClientError\n",
    "import logging\n",
    "\n",
    "import os\n",
    "import pathlib\n",
    "from configparser import ConfigParser"
   ]
  },
  {
   "cell_type": "code",
   "execution_count": null,
   "metadata": {},
   "outputs": [],
   "source": [
    "config_logging(logging, logging.DEBUG)"
   ]
  },
  {
   "cell_type": "code",
   "execution_count": null,
   "metadata": {},
   "outputs": [],
   "source": [
    "config_file = \"config.test.ini\""
   ]
  },
  {
   "cell_type": "code",
   "execution_count": null,
   "metadata": {},
   "outputs": [],
   "source": [
    "def get_params():\n",
    "    config = ConfigParser()\n",
    "    config_file_path = os.path.join(\n",
    "        pathlib.Path(__file__).parent.resolve(), \"..\", config_file\n",
    "    )\n",
    "    config.read(config_file_path)\n",
    "    return config[\"keys\"][\"api_key\"], config[\"keys\"][\"api_secret\"], config[\"keys\"][\"url\"], config[\"keys\"][\"ws_url\"]\n",
    "\n",
    "api_key, api_secret, url, ws_url = get_params()"
   ]
  },
  {
   "cell_type": "code",
   "execution_count": null,
   "metadata": {},
   "outputs": [],
   "source": [
    "rest_client = Spot(api_key=api_key, api_secret=api_secret,\n",
    "                   base_url=url)"
   ]
  },
  {
   "cell_type": "code",
   "execution_count": null,
   "metadata": {},
   "outputs": [],
   "source": [
    "def message_handler(_, message):\n",
    "    logging.info(message)\n",
    "\n",
    "ws_client = SpotWebsocketAPIClient(on_message=message_handler)"
   ]
  },
  {
   "cell_type": "code",
   "execution_count": null,
   "metadata": {},
   "outputs": [],
   "source": [
    "print(rest_client.klines(\"BTCUSDT\", \"1m\", limit=10))"
   ]
  },
  {
   "cell_type": "code",
   "execution_count": null,
   "metadata": {},
   "outputs": [],
   "source": [
    "print(rest_client.account())"
   ]
  },
  {
   "cell_type": "code",
   "execution_count": null,
   "metadata": {},
   "outputs": [],
   "source": [
    "params = {\n",
    "    'symbol': 'BTCUSDT',\n",
    "    'side': 'SELL',\n",
    "    'type': 'LIMIT',\n",
    "    'timeInForce': 'GTC',\n",
    "    'quantity': 0.002,\n",
    "    'price': 9500\n",
    "}\n",
    "\n",
    "response = rest_client.new_order(**params)\n",
    "print(response)\n"
   ]
  }
 ],
 "metadata": {
  "kernelspec": {
   "display_name": "Python 3",
   "language": "python",
   "name": "python3"
  },
  "language_info": {
   "codemirror_mode": {
    "name": "ipython",
    "version": 3
   },
   "file_extension": ".py",
   "mimetype": "text/x-python",
   "name": "python",
   "nbconvert_exporter": "python",
   "pygments_lexer": "ipython3",
   "version": "3.9.13"
  },
  "orig_nbformat": 4
 },
 "nbformat": 4,
 "nbformat_minor": 2
}
